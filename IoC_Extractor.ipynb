{
  "nbformat": 4,
  "nbformat_minor": 0,
  "metadata": {
    "colab": {
      "private_outputs": true,
      "provenance": [],
      "authorship_tag": "ABX9TyMDaN8tYfAEkyQfIEVNKwnZ",
      "include_colab_link": true
    },
    "kernelspec": {
      "name": "python3",
      "display_name": "Python 3"
    },
    "language_info": {
      "name": "python"
    }
  },
  "cells": [
    {
      "cell_type": "markdown",
      "metadata": {
        "id": "view-in-github",
        "colab_type": "text"
      },
      "source": [
        "<a href=\"https://colab.research.google.com/github/Agus1112/IoC_Extractor/blob/main/IoC_Extractor.ipynb\" target=\"_parent\"><img src=\"https://colab.research.google.com/assets/colab-badge.svg\" alt=\"Open In Colab\"/></a>"
      ]
    },
    {
      "cell_type": "markdown",
      "source": [
        "# IoC Extractor\n",
        "\n",
        "## Description:\n",
        "\n",
        "This script uses regular expressions to extract various types of indicators of compromise (IoC) from a given text. Supported IoCs include:\n",
        "\n",
        "\n",
        "\n",
        "*   Hashes: MD5, SHA-1 and SHA-256\n",
        "*   IP addresses: IPv4 and IPv6\n",
        "*   MAC address\n",
        "*   Domains\n",
        "*   URL\n",
        "\n",
        "The script is easy to use. It takes a text string as input and returns a dictionary containing lists of all extracted elements categorized by type."
      ],
      "metadata": {
        "id": "kpytYTPNsR-z"
      }
    },
    {
      "cell_type": "code",
      "execution_count": null,
      "metadata": {
        "id": "_-jAPYTnG_-B"
      },
      "outputs": [],
      "source": [
        "import re\n",
        "\n",
        "def extract_data(text):\n",
        "    # Regular expressions for each type of data\n",
        "    ipv4_regex = re.compile(r'\\b(?:[0-9]{1,3}\\.){3}[0-9]{1,3}\\b')  # Matches IPv4 addresses\n",
        "    ipv6_regex = re.compile(r'\\b(?:[0-9a-fA-F]{1,4}:){7}[0-9a-fA-F]{1,4}\\b')  # Matches IPv6 addresses\n",
        "    md5_regex = re.compile(r'\\b[a-fA-F0-9]{32}\\b')  # Matches MD5 hashes\n",
        "    sha1_regex = re.compile(r'\\b[a-fA-F0-9]{40}\\b')  # Matches SHA-1 hashes\n",
        "    sha256_regex = re.compile(r'\\b[a-fA-F0-9]{64}\\b')  # Matches SHA-256 hashes\n",
        "    domain_regex = re.compile(r'\\b(?:[a-zA-Z0-9-]+\\.)+[a-zA-Z]{2,}\\b')  # Matches domain names\n",
        "    url_regex = re.compile(r'https?://[^\\s/$.?#].[^\\s]*')  # Matches URLs\n",
        "    mac_regex = re.compile(r'\\b(?:[0-9A-Fa-f]{2}[:-]){5}[0-9A-Fa-f]{2}\\b')  # Matches MAC addresses\n",
        "\n",
        "    # Dictionary to store the extracted data\n",
        "    extracted_data = {\n",
        "        'ipv4': ipv4_regex.findall(text),  # List of IPv4 addresses\n",
        "        'ipv6': ipv6_regex.findall(text),  # List of IPv6 addresses\n",
        "        'md5': md5_regex.findall(text),  # List of MD5 hashes\n",
        "        'sha1': sha1_regex.findall(text),  # List of SHA-1 hashes\n",
        "        'sha256': sha256_regex.findall(text),  # List of SHA-256 hashes\n",
        "        'domains': domain_regex.findall(text),  # List of domain names\n",
        "        'urls': url_regex.findall(text),  # List of URLs\n",
        "        'mac_addresses': mac_regex.findall(text)  # List of MAC addresses\n",
        "    }\n",
        "\n",
        "    return extracted_data"
      ]
    },
    {
      "cell_type": "markdown",
      "source": [
        "## Example of use"
      ],
      "metadata": {
        "id": "vbk7d9Jhu1Rw"
      }
    },
    {
      "cell_type": "code",
      "source": [
        "if __name__ == \"__main__\":\n",
        "    # Prompt user for input text\n",
        "    user_input = input(\"Enter the text to analyze: \")\n",
        "    # Extract data from the input text\n",
        "    result = extract_data(user_input)\n",
        "    # Print the extracted data\n",
        "    print(result)"
      ],
      "metadata": {
        "id": "M554E9gWuyte"
      },
      "execution_count": null,
      "outputs": []
    }
  ]
}